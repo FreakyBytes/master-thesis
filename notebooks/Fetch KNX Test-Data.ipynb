{
 "cells": [
  {
   "cell_type": "code",
   "execution_count": 4,
   "metadata": {},
   "outputs": [],
   "source": [
    "import numpy as np\n",
    "import pandas as pd\n",
    "\n",
    "import matplotlib.pyplot as plt\n",
    "import pandas.plotting as pplt\n",
    "\n",
    "import baos_knx_parser as knx\n",
    "\n",
    "import pymysql.cursors\n",
    "\n",
    "import csv\n",
    "import binascii\n",
    "import datetime\n",
    "import json"
   ]
  },
  {
   "cell_type": "code",
   "execution_count": 7,
   "metadata": {},
   "outputs": [],
   "source": [
    "with open('db-config.json', 'r') as fp:\n",
    "    DB_CONFIG = json.load(fp)\n",
    "\n",
    "dbcon = pymysql.connect(\n",
    "    #host='127.0.0.1',\n",
    "    host=DB_CONFIG['host'],\n",
    "    user=DB_CONFIG['user'],\n",
    "    password=DB_CONFIG['pass'],\n",
    "    db=DB_CONFIG['db'],\n",
    "    #cursorclass=pymysql.cursors.DictCursor,\n",
    "    cursorclass=pymysql.cursors.SSDictCursor,\n",
    ")"
   ]
  },
  {
   "cell_type": "markdown",
   "metadata": {},
   "source": [
    "# Verfügbare zusammenhängende Daten\n",
    "-----------------------------------\n",
    "\n",
    "* 21.Jan.-21.Feb.2017\n",
    "* Jan 2014\n",
    "* 11.Dez 2013-14.Jan 2014"
   ]
  },
  {
   "cell_type": "code",
   "execution_count": 8,
   "metadata": {},
   "outputs": [],
   "source": [
    "DATASET_RANGES = {\n",
    "    'training': (datetime.date(2017, 1, 21), datetime.date(2017, 2, 21)),\n",
    "    #'validate': (datetime.date(2017, 1, 21), datetime.date(2017, 2, 21)),\n",
    "    #'test': (datetime.date(2017, 1, 21), datetime.date(2017, 2, 21)),\n",
    "}\n",
    "\n",
    "def fetch_dataset(name):\n",
    "    with dbcon.cursor() as cursor:\n",
    "        cursor.execute(\"SELECT Time, Date, cemi FROM knxlog WHERE Date BETWEEN %s AND %s;\",\n",
    "                       [str(DATASET_RANGES[name][0]), str(DATASET_RANGES[name][1])])\n",
    "        # print(str(DATASET_RANGES[name][0]), str(DATASET_RANGES[name][1]), rows)\n",
    "        while True:\n",
    "            row = cursor.fetchone()\n",
    "            if row is None:\n",
    "                break\n",
    "                \n",
    "            timestamp = datetime.datetime.combine(row['Date'], datetime.time(0, 0)) + row['Time']\n",
    "            yield (timestamp, bytes.fromhex(row['cemi']))\n",
    "            # yield knx.parse_knx_telegram(bytes.fromhex(row['cemi']), timestamp)\n",
    "            \n",
    "def fetch_parsed_dataset(name):\n",
    "    for data in fetch_dataset(name):\n",
    "        yield knx.parse_knx_telegram(data[1], data[0])\n",
    "\n",
    "#list(fetch_dataset('training'))"
   ]
  },
  {
   "cell_type": "code",
   "execution_count": 18,
   "metadata": {},
   "outputs": [],
   "source": [
    "\"\"\"\n",
    "for name in DATASET_RANGES.keys():\n",
    "    with open(f'knx_dataset_{name}.csv', 'w', newline='') as csvfile:\n",
    "        writer = csv.writer(csvfile, delimiter=';', quotechar='\"', quoting=csv.QUOTE_MINIMAL)\n",
    "        for data in fetch_dataset(name):\n",
    "            writer.writerow((data[0], binascii.hexlify(data[1])))\n",
    "\"\"\"\n",
    "pass"
   ]
  },
  {
   "cell_type": "code",
   "execution_count": 19,
   "metadata": {},
   "outputs": [],
   "source": [
    "with open(f'knx_dataset.csv', 'w', newline='') as csvfile:\n",
    "    writer = csv.writer(csvfile, delimiter=';', quotechar='\"', quoting=csv.QUOTE_MINIMAL)\n",
    "    for data in fetch_dataset('training'):\n",
    "        writer.writerow((data[0], binascii.hexlify(data[1])))"
   ]
  },
  {
   "cell_type": "code",
   "execution_count": 10,
   "metadata": {},
   "outputs": [],
   "source": [
    "with dbcon.cursor() as cursor:\n",
    "    cursor.execute(\"SELECT DISTINCT SourceAddress FROM knxlog\")\n",
    "    result = cursor.fetchall()"
   ]
  },
  {
   "cell_type": "code",
   "execution_count": 14,
   "metadata": {},
   "outputs": [
    {
     "data": {
      "text/plain": [
       "{'3.1.1',\n",
       " '3.3.29',\n",
       " '3.4.16',\n",
       " '3.4.17',\n",
       " '3.4.26',\n",
       " '3.5.10',\n",
       " '3.5.11',\n",
       " '3.5.12',\n",
       " '3.5.13',\n",
       " '3.5.14',\n",
       " '3.5.3',\n",
       " '3.5.4',\n",
       " '3.5.5',\n",
       " '3.5.54',\n",
       " '3.5.55',\n",
       " '3.5.56',\n",
       " '3.5.57',\n",
       " '3.5.58',\n",
       " '3.5.6',\n",
       " '3.5.66',\n",
       " '3.5.67',\n",
       " '3.5.69',\n",
       " '3.5.7',\n",
       " '3.5.9',\n",
       " '3.6.1',\n",
       " '3.6.10',\n",
       " '3.6.11',\n",
       " '3.6.12',\n",
       " '3.6.13',\n",
       " '3.6.14',\n",
       " '3.6.15',\n",
       " '3.6.16',\n",
       " '3.6.18',\n",
       " '3.6.19',\n",
       " '3.6.2',\n",
       " '3.6.20',\n",
       " '3.6.21',\n",
       " '3.6.22',\n",
       " '3.6.24',\n",
       " '3.6.25',\n",
       " '3.6.250',\n",
       " '3.6.27',\n",
       " '3.6.28',\n",
       " '3.6.3',\n",
       " '3.6.30',\n",
       " '3.6.31',\n",
       " '3.6.32',\n",
       " '3.6.33',\n",
       " '3.6.34',\n",
       " '3.6.35',\n",
       " '3.6.36',\n",
       " '3.6.37',\n",
       " '3.6.39',\n",
       " '3.6.4',\n",
       " '3.6.41',\n",
       " '3.6.42',\n",
       " '3.6.43',\n",
       " '3.6.44',\n",
       " '3.6.45',\n",
       " '3.6.46',\n",
       " '3.6.47',\n",
       " '3.6.5',\n",
       " '3.6.6',\n",
       " '3.6.7',\n",
       " '3.6.8',\n",
       " '3.6.9',\n",
       " '4.7.2',\n",
       " '5.1.0',\n",
       " '5.1.1',\n",
       " '6.1.0'}"
      ]
     },
     "execution_count": 14,
     "metadata": {},
     "output_type": "execute_result"
    }
   ],
   "source": [
    "addr_set = set(map(lambda r: r['SourceAddress'], result))\n",
    "addr_set"
   ]
  },
  {
   "cell_type": "code",
   "execution_count": 17,
   "metadata": {},
   "outputs": [
    {
     "data": {
      "text/plain": [
       "False"
      ]
     },
     "execution_count": 17,
     "metadata": {},
     "output_type": "execute_result"
    }
   ],
   "source": [
    "'3.6.26' in addr_set"
   ]
  },
  {
   "cell_type": "code",
   "execution_count": 21,
   "metadata": {},
   "outputs": [
    {
     "data": {
      "text/plain": [
       "False"
      ]
     },
     "execution_count": 21,
     "metadata": {},
     "output_type": "execute_result"
    }
   ],
   "source": [
    "'3.5.18' in addr_set"
   ]
  },
  {
   "cell_type": "code",
   "execution_count": null,
   "metadata": {},
   "outputs": [],
   "source": [
    "#dbcon.close()"
   ]
  }
 ],
 "metadata": {
  "kernelspec": {
   "display_name": "Python 3",
   "language": "python",
   "name": "python3"
  },
  "language_info": {
   "codemirror_mode": {
    "name": "ipython",
    "version": 3
   },
   "file_extension": ".py",
   "mimetype": "text/x-python",
   "name": "python",
   "nbconvert_exporter": "python",
   "pygments_lexer": "ipython3",
   "version": "3.6.4+"
  }
 },
 "nbformat": 4,
 "nbformat_minor": 2
}
