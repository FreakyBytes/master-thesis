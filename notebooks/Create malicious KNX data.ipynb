{
 "cells": [
  {
   "cell_type": "code",
   "execution_count": 2,
   "metadata": {},
   "outputs": [],
   "source": [
    "import numpy as np\n",
    "import pandas as pd\n",
    "\n",
    "import matplotlib.pyplot as plt\n",
    "import pandas.plotting as pplt\n",
    "\n",
    "import baos_knx_parser as knx\n",
    "\n",
    "import csv\n",
    "import binascii\n",
    "import datetime\n",
    "import math\n",
    "\n",
    "import itertools"
   ]
  },
  {
   "cell_type": "code",
   "execution_count": 68,
   "metadata": {},
   "outputs": [],
   "source": [
    "DEFAULT_SRC = knx.KnxAddress('3.4.2')"
   ]
  },
  {
   "cell_type": "code",
   "execution_count": 69,
   "metadata": {},
   "outputs": [],
   "source": [
    "def gen_restart(dest, src=DEFAULT_SRC, prio=knx.TelegramPriority.URGENT, hop_count=6):\n",
    "    return knx.KnxStandardTelegram(\n",
    "        src=src, dest=dest,\n",
    "        telegram_type=knx.TelegramType.DATA, repeat=False, ack=False,\n",
    "        priority=knx.TelegramPriority.URGENT, hop_count=hop_count,\n",
    "        payload=knx.construct_payload(knx.TPCI.UNNUMBERED_DATA_PACKET, 0, knx.APCI.A_RESTART)\n",
    "    )\n",
    "\n",
    "def gen_device_descriptor_read(dest, src=DEFAULT_SRC, prio=knx.TelegramPriority.URGENT, hop_count=6):\n",
    "    return knx.KnxStandardTelegram(\n",
    "        src=src, dest=dest,\n",
    "        telegram_type=knx.TelegramType.DATA, repeat=False, ack=False,\n",
    "        priority=knx.TelegramPriority.URGENT, hop_count=hop_count,\n",
    "        payload=knx.construct_payload(knx.TPCI.UNNUMBERED_DATA_PACKET, 0, knx.APCI.A_DEVICE_DESCRIPTOR_READ)\n",
    "    )"
   ]
  },
  {
   "cell_type": "code",
   "execution_count": 70,
   "metadata": {},
   "outputs": [],
   "source": [
    "def addr_range(start: knx.KnxAddress, end: knx.KnxAddress, step=1):\n",
    "    if not start.group == end.group:\n",
    "        raise ValueError(\"Address Types must be equal\")\n",
    "        \n",
    "    group = start.group\n",
    "    for addr in range(int(start), int(end), step):\n",
    "        yield knx.parser.parse_knx_addr(knx.struct.STD_U16.pack(addr), group)"
   ]
  },
  {
   "cell_type": "code",
   "execution_count": 71,
   "metadata": {},
   "outputs": [],
   "source": [
    "def gen_time(start: datetime.datetime, end: datetime.datetime=None, duration: datetime.timedelta=None, max_ps: float=5000.0, amount: int=math.inf):\n",
    "    if not start:\n",
    "        raise ValueError(\"No start datetime provided!\")\n",
    "        \n",
    "    if end is None and duration is None and max_ps is None and amount is None:\n",
    "        raise ValueError(\"A second parameter next to start is required\")\n",
    "        \n",
    "    if duration and end:\n",
    "        raise ValueError(\"Only one of end or duration can be set\")\n",
    "    \n",
    "    if max_ps is None and amount is None:\n",
    "        raise ValueError(\"Either max_ps or amount is required\")\n",
    "    \n",
    "    if max_ps is None or max_ps <= 0:\n",
    "        raise ValueError(\"max_ps must be >0\")\n",
    "    \n",
    "    if duration:\n",
    "        end =  start + duration\n",
    "    \n",
    "    if amount < math.inf and end:\n",
    "        max_ps = min(amount / (end - start).total_seconds(), max_ps or math.inf)\n",
    "    \n",
    "    current_time = start\n",
    "    current_amount = 0\n",
    "    while (not end or current_time < end) and current_amount < amount:\n",
    "        yield current_time.replace(microsecond=0)\n",
    "        \n",
    "        # increase current time by 1/max_ps seconds\n",
    "        current_amount += 1\n",
    "        current_time += datetime.timedelta(seconds=1)/max_ps\n",
    "        \n",
    "        \n",
    "def gen_burst(start: datetime.datetime, bursts: int, burst_duration: datetime.timedelta=None, end: datetime.datetime=None, wait: datetime.timedelta=None, *args, **kwargs):\n",
    "    if not start:\n",
    "        raise ValueError(\"No start datetime provided!\")\n",
    "        \n",
    "    if not bursts:\n",
    "        raise ValueError(\"No number of bursts provided!\")\n",
    "        \n",
    "    if end is not None and burst_duration is not None and wait is None:\n",
    "        wait = ((end - start) - (burst_duration * bursts)) / bursts\n",
    "    if end is not None and burst_duration is None and wait is not None:\n",
    "        burst_duration = ((end - start) - (wait * bursts)) / bursts\n",
    "    \n",
    "    if wait is None:\n",
    "        raise ValueError(\"Wait cannot be calculated, please provide it as parameter\")\n",
    "    if burst_duration is None:\n",
    "        raise ValueError(\"burst_duration cannot be calculated, please provide it as parameter\")\n",
    "        \n",
    "    current_time = start\n",
    "    for n in range(bursts):\n",
    "        yield from gen_time(\n",
    "            current_time,\n",
    "            duration=burst_duration,\n",
    "            *args,\n",
    "            **kwargs\n",
    "        )\n",
    "        \n",
    "        current_time += wait"
   ]
  },
  {
   "cell_type": "code",
   "execution_count": 72,
   "metadata": {},
   "outputs": [],
   "source": [
    "def df_from_generator(knx_gen):\n",
    "    return pd.DataFrame.from_records(\n",
    "        map(lambda t: [t.timestamp, binascii.hexlify(t.to_binary())], knx_gen),\n",
    "        index='timestamp', columns=('timestamp', 'telegram')\n",
    "    )"
   ]
  },
  {
   "cell_type": "code",
   "execution_count": 73,
   "metadata": {},
   "outputs": [],
   "source": [
    "# list(itertools.islice(gen_time(datetime.datetime(2018,1,1), end=datetime.datetime(2018,1,2), amount=5), 10))"
   ]
  },
  {
   "cell_type": "code",
   "execution_count": 74,
   "metadata": {
    "scrolled": true
   },
   "outputs": [],
   "source": [
    "# list(itertools.islice(gen_burst(datetime.datetime(2017, 2, 12, 8, 0), bursts=3, burst_duration=datetime.timedelta(minutes=15), wait=datetime.timedelta(minutes=5), max_ps=5000), 20))"
   ]
  },
  {
   "cell_type": "code",
   "execution_count": 75,
   "metadata": {},
   "outputs": [],
   "source": [
    "def simulate_network_probing(timegen, start_addr: knx.KnxAddress, end_addr: knx.KnxAddress, src: knx.KnxAddress=DEFAULT_SRC, *args, **kwargs):\n",
    "    # get in looser, we're going probing!\n",
    "    \n",
    "    for addr in addr_range(start_addr, end_addr):\n",
    "        time = next(timegen)\n",
    "        if not time:\n",
    "            break\n",
    "        \n",
    "        # do not probe yourself\n",
    "        if int(addr) == int(src):\n",
    "            continue\n",
    "            \n",
    "        telegram = gen_device_descriptor_read(addr, src=src, *args, **kwargs)\n",
    "        telegram.timestamp = time\n",
    "        yield telegram\n",
    "        \n",
    "        \n",
    "def simulate_dos(timegen, start_addr: knx.KnxAddress, end_addr: knx.KnxAddress, src: knx.KnxAddress=DEFAULT_SRC, *args, **kwargs):\n",
    "    addr_gen = addr_range(start_addr, end_addr)\n",
    "    \n",
    "    for time in timegen:\n",
    "        try:\n",
    "            addr = next(addr_gen)\n",
    "        except StopIteration:\n",
    "            addr_gen = addr_range(start_addr, end_addr)\n",
    "            addr = next(addr_gen)\n",
    "        \n",
    "        # do not probe yourself\n",
    "        if int(addr) == int(src):\n",
    "            continue\n",
    "            \n",
    "        telegram = gen_restart(addr, src=src, *args, **kwargs)\n",
    "        telegram.timestamp = time\n",
    "        yield telegram"
   ]
  },
  {
   "cell_type": "code",
   "execution_count": 76,
   "metadata": {},
   "outputs": [],
   "source": [
    "# r = addr_range(knx.KnxAddress('0.0.0'), knx.KnxAddress('15.15.255'))\n",
    "\n",
    "probing_df = df_from_generator(simulate_network_probing(\n",
    "    gen_time(datetime.datetime(2018,1,1), end=datetime.datetime(2018,1,2), amount=255),\n",
    "    knx.KnxAddress('3.4.0'),\n",
    "    knx.KnxAddress('3.4.255')\n",
    "))"
   ]
  },
  {
   "cell_type": "code",
   "execution_count": 77,
   "metadata": {},
   "outputs": [
    {
     "data": {
      "text/html": [
       "<div>\n",
       "<style>\n",
       "    .dataframe thead tr:only-child th {\n",
       "        text-align: right;\n",
       "    }\n",
       "\n",
       "    .dataframe thead th {\n",
       "        text-align: left;\n",
       "    }\n",
       "\n",
       "    .dataframe tbody tr th {\n",
       "        vertical-align: top;\n",
       "    }\n",
       "</style>\n",
       "<table border=\"1\" class=\"dataframe\">\n",
       "  <thead>\n",
       "    <tr style=\"text-align: right;\">\n",
       "      <th></th>\n",
       "      <th>telegram</th>\n",
       "    </tr>\n",
       "    <tr>\n",
       "      <th>timestamp</th>\n",
       "      <th></th>\n",
       "    </tr>\n",
       "  </thead>\n",
       "  <tbody>\n",
       "    <tr>\n",
       "      <th>2018-01-01 00:00:00</th>\n",
       "      <td>b'2900ba6034023400000300'</td>\n",
       "    </tr>\n",
       "    <tr>\n",
       "      <th>2018-01-01 00:05:38</th>\n",
       "      <td>b'2900ba6034023401000300'</td>\n",
       "    </tr>\n",
       "    <tr>\n",
       "      <th>2018-01-01 00:16:56</th>\n",
       "      <td>b'2900ba6034023403000300'</td>\n",
       "    </tr>\n",
       "    <tr>\n",
       "      <th>2018-01-01 00:22:35</th>\n",
       "      <td>b'2900ba6034023404000300'</td>\n",
       "    </tr>\n",
       "    <tr>\n",
       "      <th>2018-01-01 00:28:14</th>\n",
       "      <td>b'2900ba6034023405000300'</td>\n",
       "    </tr>\n",
       "  </tbody>\n",
       "</table>\n",
       "</div>"
      ],
      "text/plain": [
       "                                      telegram\n",
       "timestamp                                     \n",
       "2018-01-01 00:00:00  b'2900ba6034023400000300'\n",
       "2018-01-01 00:05:38  b'2900ba6034023401000300'\n",
       "2018-01-01 00:16:56  b'2900ba6034023403000300'\n",
       "2018-01-01 00:22:35  b'2900ba6034023404000300'\n",
       "2018-01-01 00:28:14  b'2900ba6034023405000300'"
      ]
     },
     "execution_count": 77,
     "metadata": {},
     "output_type": "execute_result"
    }
   ],
   "source": [
    "probing_df.head() # ['2018-01-01 15:00':'2018-01-01 16:00']\n",
    "#df.dtypes"
   ]
  },
  {
   "cell_type": "code",
   "execution_count": 4,
   "metadata": {},
   "outputs": [
    {
     "data": {
      "text/plain": [
       "{'test': (datetime.datetime(2017, 2, 11, 0, 0), datetime.date(2017, 2, 18)),\n",
       " 'training': (datetime.date(2017, 1, 21), datetime.date(2017, 2, 4)),\n",
       " 'validation': (datetime.date(2017, 2, 4), datetime.date(2017, 2, 11))}"
      ]
     },
     "execution_count": 4,
     "metadata": {},
     "output_type": "execute_result"
    }
   ],
   "source": [
    "OVERALL_DATE_RANGE = (datetime.datetime(2017, 1 , 21, 0, 0, 0), datetime.datetime(2017, 2, 21, 0, 0, 0))\n",
    "PERIODS = {\n",
    "    'training': (datetime.date(2017, 1, 21), datetime.date(2017, 1, 21) + datetime.timedelta(weeks=2)),\n",
    "    'validation': (datetime.date(2017, 2, 4), datetime.date(2017, 2, 4) + datetime.timedelta(weeks=1)),\n",
    "    'test': (datetime.datetime(2017, 2, 11), datetime.date(2017, 2, 11) + datetime.timedelta(weeks=1)),\n",
    "}\n",
    "PERIODS"
   ]
  },
  {
   "cell_type": "code",
   "execution_count": 79,
   "metadata": {},
   "outputs": [
    {
     "data": {
      "text/html": [
       "<div>\n",
       "<style>\n",
       "    .dataframe thead tr:only-child th {\n",
       "        text-align: right;\n",
       "    }\n",
       "\n",
       "    .dataframe thead th {\n",
       "        text-align: left;\n",
       "    }\n",
       "\n",
       "    .dataframe tbody tr th {\n",
       "        vertical-align: top;\n",
       "    }\n",
       "</style>\n",
       "<table border=\"1\" class=\"dataframe\">\n",
       "  <thead>\n",
       "    <tr style=\"text-align: right;\">\n",
       "      <th></th>\n",
       "      <th>telegram</th>\n",
       "    </tr>\n",
       "    <tr>\n",
       "      <th>timestamp</th>\n",
       "      <th></th>\n",
       "    </tr>\n",
       "  </thead>\n",
       "  <tbody>\n",
       "    <tr>\n",
       "      <th>2017-01-21 00:00:18</th>\n",
       "      <td>b'2900bce0361612be0200800000'</td>\n",
       "    </tr>\n",
       "    <tr>\n",
       "      <th>2017-01-21 00:00:37</th>\n",
       "      <td>b'2900bce0361012730200800000'</td>\n",
       "    </tr>\n",
       "    <tr>\n",
       "      <th>2017-01-21 00:00:52</th>\n",
       "      <td>b'2900bce0361612b60200800cb0'</td>\n",
       "    </tr>\n",
       "    <tr>\n",
       "      <th>2017-01-21 00:01:19</th>\n",
       "      <td>b'2900bce0361012670200800c5a'</td>\n",
       "    </tr>\n",
       "    <tr>\n",
       "      <th>2017-01-21 00:01:31</th>\n",
       "      <td>b'2900bce03610126b02008007d1'</td>\n",
       "    </tr>\n",
       "  </tbody>\n",
       "</table>\n",
       "</div>"
      ],
      "text/plain": [
       "                                          telegram\n",
       "timestamp                                         \n",
       "2017-01-21 00:00:18  b'2900bce0361612be0200800000'\n",
       "2017-01-21 00:00:37  b'2900bce0361012730200800000'\n",
       "2017-01-21 00:00:52  b'2900bce0361612b60200800cb0'\n",
       "2017-01-21 00:01:19  b'2900bce0361012670200800c5a'\n",
       "2017-01-21 00:01:31  b'2900bce03610126b02008007d1'"
      ]
     },
     "execution_count": 79,
     "metadata": {},
     "output_type": "execute_result"
    }
   ],
   "source": [
    "overall_df = pd.read_csv('knx_dataset.csv', sep=';', names=('timestamp', 'telegram'), index_col=0)\n",
    "overall_df.index = pd.to_datetime(overall_df.index)\n",
    "overall_df.head()"
   ]
  },
  {
   "cell_type": "code",
   "execution_count": 80,
   "metadata": {},
   "outputs": [],
   "source": [
    "training_df = overall_df[str(PERIODS['training'][0]):str(PERIODS['training'][1])]\n",
    "validation_df = overall_df[str(PERIODS['validation'][0]):str(PERIODS['validation'][1])]\n",
    "#test_df = overall_df[str(PERIODS['test'][0]):str(PERIODS['test'][1])]"
   ]
  },
  {
   "cell_type": "code",
   "execution_count": 81,
   "metadata": {},
   "outputs": [],
   "source": [
    "training_df.to_csv('dataset_training.csv', sep=';', header=False)\n",
    "validation_df.to_csv('dataset_validation.csv', sep=';', header=False)"
   ]
  },
  {
   "cell_type": "markdown",
   "metadata": {},
   "source": [
    "## Time Map\n",
    "\n",
    "**Overall Date Range:** 2017-01-21 - 2017-02-21  \n",
    "**Train Period:** 2 weeks  \n",
    "**Validation Period:** 1 week  \n",
    "**Test Period:** 1 week  \n",
    "\n",
    "## Attack Types\n",
    "\n",
    "* DoS via A_Restart\n",
    "* Network Scan/Sweep\n",
    "* New Device\n",
    "    * copy activity from another device and change the address\n",
    "    \n",
    "## Timeline of Attacks\n",
    "\n",
    "* 2017-02-12 02:00:00 to 2017-02-12 07:00:00\n",
    "    * unusual behaviour\n",
    "    * traffic copied from 2017-02-06 09:00:00 to 2017-02-06 14:00:00\n",
    "    * original traffic in this time was replaced\n",
    "* 2017-02-13 08:00:00 to 2017-02-13 08:29:59\n",
    "    * DoS on line 3.4\n",
    "    * 3 x 15min bursts, with 5min pause in between\n",
    "    * max 500 telegrams per second\n",
    "* 2017-02-13 20:00:00 to 2017-02-13 20:02:11\n",
    "    * network scan/sweep\n",
    "    * 65534 addrs scanned, from 0.0.0 to 15.15.255\n",
    "    * max 500 telegrams per second\n",
    "* 2017-02-14\n",
    "    * 2 new devices for a whole day\n",
    "        * 3.6.26 (copied from 3.6.7 at 2017-02-07)\n",
    "        * 3.5.18 (copied from 2.6.42 at 2017-02-08)"
   ]
  },
  {
   "cell_type": "code",
   "execution_count": 82,
   "metadata": {},
   "outputs": [
    {
     "data": {
      "text/plain": [
       "1792941"
      ]
     },
     "execution_count": 82,
     "metadata": {},
     "output_type": "execute_result"
    }
   ],
   "source": [
    "\"\"\"Generate DoS Traffic\"\"\"\n",
    "dos_df = df_from_generator(simulate_dos(\n",
    "    gen_burst(datetime.datetime(2017, 2, 13, 8, 0), bursts=4, burst_duration=datetime.timedelta(minutes=15), wait=datetime.timedelta(minutes=5), max_ps=500),\n",
    "    #gen_time(datetime.datetime(2017, 2, 12, 8, 0), duration=datetime.timedelta(minutes=20), max_ps=5000),\n",
    "    knx.KnxAddress('3.4.0'),\n",
    "    knx.KnxAddress('3.4.255'),\n",
    "    prio=knx.TelegramPriority.SYSTEM,\n",
    "    hop_count=7,\n",
    "))\n",
    "len(dos_df)"
   ]
  },
  {
   "cell_type": "code",
   "execution_count": 83,
   "metadata": {},
   "outputs": [
    {
     "data": {
      "text/html": [
       "<div>\n",
       "<style>\n",
       "    .dataframe thead tr:only-child th {\n",
       "        text-align: right;\n",
       "    }\n",
       "\n",
       "    .dataframe thead th {\n",
       "        text-align: left;\n",
       "    }\n",
       "\n",
       "    .dataframe tbody tr th {\n",
       "        vertical-align: top;\n",
       "    }\n",
       "</style>\n",
       "<table border=\"1\" class=\"dataframe\">\n",
       "  <thead>\n",
       "    <tr style=\"text-align: right;\">\n",
       "      <th></th>\n",
       "      <th>telegram</th>\n",
       "    </tr>\n",
       "    <tr>\n",
       "      <th>timestamp</th>\n",
       "      <th></th>\n",
       "    </tr>\n",
       "  </thead>\n",
       "  <tbody>\n",
       "    <tr>\n",
       "      <th>2017-02-13 08:29:59</th>\n",
       "      <td>b'2900ba70340234cd000380'</td>\n",
       "    </tr>\n",
       "    <tr>\n",
       "      <th>2017-02-13 08:29:59</th>\n",
       "      <td>b'2900ba70340234ce000380'</td>\n",
       "    </tr>\n",
       "    <tr>\n",
       "      <th>2017-02-13 08:29:59</th>\n",
       "      <td>b'2900ba70340234cf000380'</td>\n",
       "    </tr>\n",
       "    <tr>\n",
       "      <th>2017-02-13 08:29:59</th>\n",
       "      <td>b'2900ba70340234d0000380'</td>\n",
       "    </tr>\n",
       "    <tr>\n",
       "      <th>2017-02-13 08:29:59</th>\n",
       "      <td>b'2900ba70340234d1000380'</td>\n",
       "    </tr>\n",
       "  </tbody>\n",
       "</table>\n",
       "</div>"
      ],
      "text/plain": [
       "                                      telegram\n",
       "timestamp                                     \n",
       "2017-02-13 08:29:59  b'2900ba70340234cd000380'\n",
       "2017-02-13 08:29:59  b'2900ba70340234ce000380'\n",
       "2017-02-13 08:29:59  b'2900ba70340234cf000380'\n",
       "2017-02-13 08:29:59  b'2900ba70340234d0000380'\n",
       "2017-02-13 08:29:59  b'2900ba70340234d1000380'"
      ]
     },
     "execution_count": 83,
     "metadata": {},
     "output_type": "execute_result"
    }
   ],
   "source": [
    "dos_df.tail()"
   ]
  },
  {
   "cell_type": "code",
   "execution_count": 84,
   "metadata": {},
   "outputs": [
    {
     "data": {
      "text/plain": [
       "65534"
      ]
     },
     "execution_count": 84,
     "metadata": {},
     "output_type": "execute_result"
    }
   ],
   "source": [
    "\"\"\"Generate Probing\"\"\"\n",
    "probing_df = df_from_generator(simulate_network_probing(\n",
    "    gen_time(datetime.datetime(2017, 2, 13, 20, 0), max_ps=500),\n",
    "    knx.KnxAddress('0.0.0'),\n",
    "    knx.KnxAddress('15.15.255'),\n",
    "    prio=knx.TelegramPriority.NORMAL,\n",
    "    hop_count=4,\n",
    "))\n",
    "len(probing_df)"
   ]
  },
  {
   "cell_type": "code",
   "execution_count": 85,
   "metadata": {},
   "outputs": [
    {
     "data": {
      "text/html": [
       "<div>\n",
       "<style>\n",
       "    .dataframe thead tr:only-child th {\n",
       "        text-align: right;\n",
       "    }\n",
       "\n",
       "    .dataframe thead th {\n",
       "        text-align: left;\n",
       "    }\n",
       "\n",
       "    .dataframe tbody tr th {\n",
       "        vertical-align: top;\n",
       "    }\n",
       "</style>\n",
       "<table border=\"1\" class=\"dataframe\">\n",
       "  <thead>\n",
       "    <tr style=\"text-align: right;\">\n",
       "      <th></th>\n",
       "      <th>telegram</th>\n",
       "    </tr>\n",
       "    <tr>\n",
       "      <th>timestamp</th>\n",
       "      <th></th>\n",
       "    </tr>\n",
       "  </thead>\n",
       "  <tbody>\n",
       "    <tr>\n",
       "      <th>2017-02-13 20:02:11</th>\n",
       "      <td>b'2900ba403402fffa000300'</td>\n",
       "    </tr>\n",
       "    <tr>\n",
       "      <th>2017-02-13 20:02:11</th>\n",
       "      <td>b'2900ba403402fffb000300'</td>\n",
       "    </tr>\n",
       "    <tr>\n",
       "      <th>2017-02-13 20:02:11</th>\n",
       "      <td>b'2900ba403402fffc000300'</td>\n",
       "    </tr>\n",
       "    <tr>\n",
       "      <th>2017-02-13 20:02:11</th>\n",
       "      <td>b'2900ba403402fffd000300'</td>\n",
       "    </tr>\n",
       "    <tr>\n",
       "      <th>2017-02-13 20:02:11</th>\n",
       "      <td>b'2900ba403402fffe000300'</td>\n",
       "    </tr>\n",
       "  </tbody>\n",
       "</table>\n",
       "</div>"
      ],
      "text/plain": [
       "                                      telegram\n",
       "timestamp                                     \n",
       "2017-02-13 20:02:11  b'2900ba403402fffa000300'\n",
       "2017-02-13 20:02:11  b'2900ba403402fffb000300'\n",
       "2017-02-13 20:02:11  b'2900ba403402fffc000300'\n",
       "2017-02-13 20:02:11  b'2900ba403402fffd000300'\n",
       "2017-02-13 20:02:11  b'2900ba403402fffe000300'"
      ]
     },
     "execution_count": 85,
     "metadata": {},
     "output_type": "execute_result"
    }
   ],
   "source": [
    "probing_df.tail()"
   ]
  },
  {
   "cell_type": "code",
   "execution_count": 86,
   "metadata": {},
   "outputs": [
    {
     "data": {
      "text/plain": [
       "22"
      ]
     },
     "execution_count": 86,
     "metadata": {},
     "output_type": "execute_result"
    }
   ],
   "source": [
    "\"\"\"Generate new device traffic\"\"\"\n",
    "def copy_device(input_df: pd.DataFrame, template_addr: knx.KnxAddress, template_date: datetime.date, new_addr: knx.KnxAddress, new_date: datetime.date):\n",
    "    for index, row in input_df[str(template_date)].iterrows():\n",
    "        telegram = knx.parse_knx_telegram(binascii.unhexlify(row['telegram'][2:-1]))\n",
    "        \n",
    "        if int(telegram.src) == int(template_addr):\n",
    "            telegram.timestamp = datetime.datetime.combine(new_date, index.time())\n",
    "            telegram.src = new_addr\n",
    "            # print(row['telegram'][2:-1], telegram.timestamp)\n",
    "            yield telegram\n",
    "        \n",
    "\n",
    "new_device_df = df_from_generator(copy_device(\n",
    "    overall_df,\n",
    "    knx.KnxAddress('3.6.7'),\n",
    "    datetime.date(2017, 2, 7),  # a Tuesday\n",
    "    knx.KnxAddress('3.6.26'),  # addr is not in data set (validated by select distinct query)\n",
    "    datetime.date(2017, 2, 14)\n",
    "))\n",
    "len(new_device_df)"
   ]
  },
  {
   "cell_type": "code",
   "execution_count": 87,
   "metadata": {},
   "outputs": [
    {
     "data": {
      "text/html": [
       "<div>\n",
       "<style>\n",
       "    .dataframe thead tr:only-child th {\n",
       "        text-align: right;\n",
       "    }\n",
       "\n",
       "    .dataframe thead th {\n",
       "        text-align: left;\n",
       "    }\n",
       "\n",
       "    .dataframe tbody tr th {\n",
       "        vertical-align: top;\n",
       "    }\n",
       "</style>\n",
       "<table border=\"1\" class=\"dataframe\">\n",
       "  <thead>\n",
       "    <tr style=\"text-align: right;\">\n",
       "      <th></th>\n",
       "      <th>telegram</th>\n",
       "    </tr>\n",
       "    <tr>\n",
       "      <th>timestamp</th>\n",
       "      <th></th>\n",
       "    </tr>\n",
       "  </thead>\n",
       "  <tbody>\n",
       "    <tr>\n",
       "      <th>2017-02-14 07:21:31</th>\n",
       "      <td>b'2900bce0361a0940000081'</td>\n",
       "    </tr>\n",
       "    <tr>\n",
       "      <th>2017-02-14 07:32:22</th>\n",
       "      <td>b'2900bce0361a0940000080'</td>\n",
       "    </tr>\n",
       "    <tr>\n",
       "      <th>2017-02-14 08:31:46</th>\n",
       "      <td>b'2900bce0361a0940000081'</td>\n",
       "    </tr>\n",
       "    <tr>\n",
       "      <th>2017-02-14 08:44:03</th>\n",
       "      <td>b'2900bce0361a0940000080'</td>\n",
       "    </tr>\n",
       "    <tr>\n",
       "      <th>2017-02-14 08:54:06</th>\n",
       "      <td>b'2900bce0361a0940000081'</td>\n",
       "    </tr>\n",
       "    <tr>\n",
       "      <th>2017-02-14 09:04:22</th>\n",
       "      <td>b'2900bce0361a0940000080'</td>\n",
       "    </tr>\n",
       "    <tr>\n",
       "      <th>2017-02-14 10:41:29</th>\n",
       "      <td>b'2900bce0361a0940000081'</td>\n",
       "    </tr>\n",
       "    <tr>\n",
       "      <th>2017-02-14 10:53:31</th>\n",
       "      <td>b'2900bce0361a0940000080'</td>\n",
       "    </tr>\n",
       "    <tr>\n",
       "      <th>2017-02-14 11:01:09</th>\n",
       "      <td>b'2900bce0361a0940000081'</td>\n",
       "    </tr>\n",
       "    <tr>\n",
       "      <th>2017-02-14 11:11:36</th>\n",
       "      <td>b'2900bce0361a0940000080'</td>\n",
       "    </tr>\n",
       "    <tr>\n",
       "      <th>2017-02-14 11:49:12</th>\n",
       "      <td>b'2900bce0361a0940000081'</td>\n",
       "    </tr>\n",
       "    <tr>\n",
       "      <th>2017-02-14 12:06:05</th>\n",
       "      <td>b'2900bce0361a0940000080'</td>\n",
       "    </tr>\n",
       "    <tr>\n",
       "      <th>2017-02-14 13:19:00</th>\n",
       "      <td>b'2900bce0361a0940000081'</td>\n",
       "    </tr>\n",
       "    <tr>\n",
       "      <th>2017-02-14 13:36:30</th>\n",
       "      <td>b'2900bce0361a0940000080'</td>\n",
       "    </tr>\n",
       "    <tr>\n",
       "      <th>2017-02-14 13:45:53</th>\n",
       "      <td>b'2900bce0361a0940000081'</td>\n",
       "    </tr>\n",
       "    <tr>\n",
       "      <th>2017-02-14 13:57:25</th>\n",
       "      <td>b'2900bce0361a0940000080'</td>\n",
       "    </tr>\n",
       "    <tr>\n",
       "      <th>2017-02-14 15:35:46</th>\n",
       "      <td>b'2900bce0361a0940000081'</td>\n",
       "    </tr>\n",
       "    <tr>\n",
       "      <th>2017-02-14 15:55:23</th>\n",
       "      <td>b'2900bce0361a0940000080'</td>\n",
       "    </tr>\n",
       "    <tr>\n",
       "      <th>2017-02-14 16:33:24</th>\n",
       "      <td>b'2900bce0361a0940000081'</td>\n",
       "    </tr>\n",
       "    <tr>\n",
       "      <th>2017-02-14 16:54:14</th>\n",
       "      <td>b'2900bce0361a0940000080'</td>\n",
       "    </tr>\n",
       "    <tr>\n",
       "      <th>2017-02-14 18:23:24</th>\n",
       "      <td>b'2900bce0361a0940000081'</td>\n",
       "    </tr>\n",
       "    <tr>\n",
       "      <th>2017-02-14 18:39:02</th>\n",
       "      <td>b'2900bce0361a0940000080'</td>\n",
       "    </tr>\n",
       "  </tbody>\n",
       "</table>\n",
       "</div>"
      ],
      "text/plain": [
       "                                      telegram\n",
       "timestamp                                     \n",
       "2017-02-14 07:21:31  b'2900bce0361a0940000081'\n",
       "2017-02-14 07:32:22  b'2900bce0361a0940000080'\n",
       "2017-02-14 08:31:46  b'2900bce0361a0940000081'\n",
       "2017-02-14 08:44:03  b'2900bce0361a0940000080'\n",
       "2017-02-14 08:54:06  b'2900bce0361a0940000081'\n",
       "2017-02-14 09:04:22  b'2900bce0361a0940000080'\n",
       "2017-02-14 10:41:29  b'2900bce0361a0940000081'\n",
       "2017-02-14 10:53:31  b'2900bce0361a0940000080'\n",
       "2017-02-14 11:01:09  b'2900bce0361a0940000081'\n",
       "2017-02-14 11:11:36  b'2900bce0361a0940000080'\n",
       "2017-02-14 11:49:12  b'2900bce0361a0940000081'\n",
       "2017-02-14 12:06:05  b'2900bce0361a0940000080'\n",
       "2017-02-14 13:19:00  b'2900bce0361a0940000081'\n",
       "2017-02-14 13:36:30  b'2900bce0361a0940000080'\n",
       "2017-02-14 13:45:53  b'2900bce0361a0940000081'\n",
       "2017-02-14 13:57:25  b'2900bce0361a0940000080'\n",
       "2017-02-14 15:35:46  b'2900bce0361a0940000081'\n",
       "2017-02-14 15:55:23  b'2900bce0361a0940000080'\n",
       "2017-02-14 16:33:24  b'2900bce0361a0940000081'\n",
       "2017-02-14 16:54:14  b'2900bce0361a0940000080'\n",
       "2017-02-14 18:23:24  b'2900bce0361a0940000081'\n",
       "2017-02-14 18:39:02  b'2900bce0361a0940000080'"
      ]
     },
     "execution_count": 87,
     "metadata": {},
     "output_type": "execute_result"
    }
   ],
   "source": [
    "new_device_df"
   ]
  },
  {
   "cell_type": "code",
   "execution_count": 88,
   "metadata": {},
   "outputs": [
    {
     "data": {
      "text/plain": [
       "187"
      ]
     },
     "execution_count": 88,
     "metadata": {},
     "output_type": "execute_result"
    }
   ],
   "source": [
    "new_device2_df = df_from_generator(copy_device(\n",
    "    overall_df,\n",
    "    knx.KnxAddress('3.6.42'),\n",
    "    datetime.date(2017, 2, 8),  # a Tuesday\n",
    "    knx.KnxAddress('3.5.18'),  # addr is not in data set (validated by select distinct query)\n",
    "    datetime.date(2017, 2, 14)\n",
    "))\n",
    "len(new_device2_df)"
   ]
  },
  {
   "cell_type": "code",
   "execution_count": 89,
   "metadata": {},
   "outputs": [],
   "source": [
    "\"\"\"\n",
    "c = pd.concat([new_device_df, new_device2_df], join='outer')\n",
    "len(c)\n",
    "\"\"\"\n",
    "pass"
   ]
  },
  {
   "cell_type": "code",
   "execution_count": 90,
   "metadata": {},
   "outputs": [
    {
     "data": {
      "text/plain": [
       "4520"
      ]
     },
     "execution_count": 90,
     "metadata": {},
     "output_type": "execute_result"
    }
   ],
   "source": [
    "\"\"\"unusual traffic for that time of the day\"\"\"\n",
    "def move_traffic(input_df: pd.DataFrame, src_time: datetime.datetime, dest_time: datetime.datetime, duration: datetime.timedelta):\n",
    "    for index, row in input_df[str(src_time):str(src_time+duration)].iterrows():\n",
    "        yield (dest_time + (index - src_time), row['telegram'])\n",
    "              \n",
    "unusual_df = pd.DataFrame.from_records(\n",
    "    move_traffic(\n",
    "        overall_df,\n",
    "        datetime.datetime(2017, 2, 6, 9, 0, 0),\n",
    "        datetime.datetime(2017, 2, 12, 2, 0, 0),\n",
    "        datetime.timedelta(hours=5)\n",
    "    ),\n",
    "    index='timestamp', columns=('timestamp', 'telegram')\n",
    ")\n",
    "len(unusual_df)"
   ]
  },
  {
   "cell_type": "code",
   "execution_count": 91,
   "metadata": {},
   "outputs": [
    {
     "data": {
      "text/plain": [
       "2041278"
      ]
     },
     "execution_count": 91,
     "metadata": {},
     "output_type": "execute_result"
    }
   ],
   "source": [
    "\"\"\"\n",
    "concatinate everything\n",
    "\"\"\"\n",
    "test_df = overall_df[str(PERIODS['test'][0]):str(PERIODS['test'][1])]\n",
    "\n",
    "# first remove the pices of time, that is supposed to be filled with unusual traffic\n",
    "test_df.drop('2017-02-06')\n",
    "\n",
    "test_df = pd.concat(\n",
    "    [\n",
    "        test_df,\n",
    "        dos_df,\n",
    "        probing_df,\n",
    "        new_device_df,\n",
    "        new_device2_df,\n",
    "        unusual_df,\n",
    "    ],\n",
    "    join='outer'\n",
    ").sort_index()\n",
    "test_df.to_csv('dataset_test.csv', sep=';', header=False)\n",
    "len(test_df)"
   ]
  }
 ],
 "metadata": {
  "kernelspec": {
   "display_name": "Python 3",
   "language": "python",
   "name": "python3"
  },
  "language_info": {
   "codemirror_mode": {
    "name": "ipython",
    "version": 3
   },
   "file_extension": ".py",
   "mimetype": "text/x-python",
   "name": "python",
   "nbconvert_exporter": "python",
   "pygments_lexer": "ipython3",
   "version": "3.6.4+"
  }
 },
 "nbformat": 4,
 "nbformat_minor": 2
}
